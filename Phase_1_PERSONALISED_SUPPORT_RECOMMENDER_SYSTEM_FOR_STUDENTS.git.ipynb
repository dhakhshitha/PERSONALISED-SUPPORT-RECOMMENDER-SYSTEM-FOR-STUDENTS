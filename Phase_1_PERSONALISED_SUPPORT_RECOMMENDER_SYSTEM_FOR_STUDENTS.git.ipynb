{
 "cells": [
  {
   "cell_type": "code",
   "execution_count": 1,
   "metadata": {},
   "outputs": [],
   "source": [
    "#import library\n",
    "import pandas as pd"
   ]
  },
  {
   "cell_type": "code",
   "execution_count": 2,
   "metadata": {},
   "outputs": [],
   "source": [
    "#load dataset\n",
    "df=pd.read_csv(\"Students Dataset.csv\")"
   ]
  },
  {
   "cell_type": "code",
   "execution_count": 3,
   "metadata": {},
   "outputs": [
    {
     "data": {
      "text/html": [
       "<div>\n",
       "<style scoped>\n",
       "    .dataframe tbody tr th:only-of-type {\n",
       "        vertical-align: middle;\n",
       "    }\n",
       "\n",
       "    .dataframe tbody tr th {\n",
       "        vertical-align: top;\n",
       "    }\n",
       "\n",
       "    .dataframe thead th {\n",
       "        text-align: right;\n",
       "    }\n",
       "</style>\n",
       "<table border=\"1\" class=\"dataframe\">\n",
       "  <thead>\n",
       "    <tr style=\"text-align: right;\">\n",
       "      <th></th>\n",
       "      <th>NAME</th>\n",
       "      <th>GENDER</th>\n",
       "      <th>PARENTS OCCUPATION</th>\n",
       "      <th>ATTENDANCE</th>\n",
       "      <th>STUDY HOUR(AFTER SCHOOL)</th>\n",
       "      <th>8th QUARTERLY</th>\n",
       "      <th>8th HALF YEARLY</th>\n",
       "      <th>8th ANNUAL</th>\n",
       "      <th>9th QUARTERLY</th>\n",
       "      <th>9th HALF YEARLY</th>\n",
       "      <th>9th ANNUAL</th>\n",
       "      <th>10th PUBLIC EXAM</th>\n",
       "    </tr>\n",
       "  </thead>\n",
       "  <tbody>\n",
       "    <tr>\n",
       "      <th>0</th>\n",
       "      <td>ABIN KUMAR G</td>\n",
       "      <td>MALE</td>\n",
       "      <td>Govt</td>\n",
       "      <td>&gt;90</td>\n",
       "      <td>1 to 2</td>\n",
       "      <td>61.0</td>\n",
       "      <td>51.0</td>\n",
       "      <td>53.0</td>\n",
       "      <td>NaN</td>\n",
       "      <td>NaN</td>\n",
       "      <td>NaN</td>\n",
       "      <td>NaN</td>\n",
       "    </tr>\n",
       "    <tr>\n",
       "      <th>1</th>\n",
       "      <td>AKIL M</td>\n",
       "      <td>MALE</td>\n",
       "      <td>Govt</td>\n",
       "      <td>&gt;90</td>\n",
       "      <td>1 to 2</td>\n",
       "      <td>45.0</td>\n",
       "      <td>47.0</td>\n",
       "      <td>55.0</td>\n",
       "      <td>51.0</td>\n",
       "      <td>49.0</td>\n",
       "      <td>48.0</td>\n",
       "      <td>37.0</td>\n",
       "    </tr>\n",
       "    <tr>\n",
       "      <th>2</th>\n",
       "      <td>ARUNKUMAR P</td>\n",
       "      <td>MALE</td>\n",
       "      <td>Private</td>\n",
       "      <td>75-90</td>\n",
       "      <td>&gt;2</td>\n",
       "      <td>91.0</td>\n",
       "      <td>74.0</td>\n",
       "      <td>64.0</td>\n",
       "      <td>60.0</td>\n",
       "      <td>64.0</td>\n",
       "      <td>54.0</td>\n",
       "      <td>40.0</td>\n",
       "    </tr>\n",
       "    <tr>\n",
       "      <th>3</th>\n",
       "      <td>HARISH V</td>\n",
       "      <td>MALE</td>\n",
       "      <td>Govt</td>\n",
       "      <td>&lt;60</td>\n",
       "      <td>&gt;2</td>\n",
       "      <td>44.0</td>\n",
       "      <td>48.0</td>\n",
       "      <td>51.0</td>\n",
       "      <td>47.0</td>\n",
       "      <td>57.0</td>\n",
       "      <td>48.0</td>\n",
       "      <td>37.0</td>\n",
       "    </tr>\n",
       "    <tr>\n",
       "      <th>4</th>\n",
       "      <td>JAYABALAN S</td>\n",
       "      <td>MALE</td>\n",
       "      <td>Govt</td>\n",
       "      <td>75-90</td>\n",
       "      <td>&gt;2</td>\n",
       "      <td>40.0</td>\n",
       "      <td>51.0</td>\n",
       "      <td>52.0</td>\n",
       "      <td>40.0</td>\n",
       "      <td>41.0</td>\n",
       "      <td>41.0</td>\n",
       "      <td>35.0</td>\n",
       "    </tr>\n",
       "  </tbody>\n",
       "</table>\n",
       "</div>"
      ],
      "text/plain": [
       "           NAME GENDER PARENTS OCCUPATION ATTENDANCE STUDY HOUR(AFTER SCHOOL)  \\\n",
       "0  ABIN KUMAR G   MALE               Govt        >90                   1 to 2   \n",
       "1        AKIL M   MALE               Govt        >90                   1 to 2   \n",
       "2   ARUNKUMAR P   MALE            Private      75-90                       >2   \n",
       "3      HARISH V   MALE               Govt        <60                       >2   \n",
       "4   JAYABALAN S   MALE               Govt      75-90                       >2   \n",
       "\n",
       "   8th QUARTERLY  8th HALF YEARLY  8th ANNUAL  9th QUARTERLY  9th HALF YEARLY  \\\n",
       "0           61.0             51.0        53.0            NaN              NaN   \n",
       "1           45.0             47.0        55.0           51.0             49.0   \n",
       "2           91.0             74.0        64.0           60.0             64.0   \n",
       "3           44.0             48.0        51.0           47.0             57.0   \n",
       "4           40.0             51.0        52.0           40.0             41.0   \n",
       "\n",
       "   9th ANNUAL  10th PUBLIC EXAM  \n",
       "0         NaN               NaN  \n",
       "1        48.0              37.0  \n",
       "2        54.0              40.0  \n",
       "3        48.0              37.0  \n",
       "4        41.0              35.0  "
      ]
     },
     "execution_count": 3,
     "metadata": {},
     "output_type": "execute_result"
    }
   ],
   "source": [
    "df.head()"
   ]
  },
  {
   "cell_type": "code",
   "execution_count": 4,
   "metadata": {},
   "outputs": [
    {
     "data": {
      "text/plain": [
       "(184, 12)"
      ]
     },
     "execution_count": 4,
     "metadata": {},
     "output_type": "execute_result"
    }
   ],
   "source": [
    "df.shape"
   ]
  },
  {
   "cell_type": "code",
   "execution_count": 6,
   "metadata": {
    "scrolled": true
   },
   "outputs": [
    {
     "name": "stdout",
     "output_type": "stream",
     "text": [
      "<class 'pandas.core.frame.DataFrame'>\n",
      "RangeIndex: 184 entries, 0 to 183\n",
      "Data columns (total 12 columns):\n",
      " #   Column                    Non-Null Count  Dtype  \n",
      "---  ------                    --------------  -----  \n",
      " 0   NAME                      184 non-null    object \n",
      " 1   GENDER                    184 non-null    object \n",
      " 2   PARENTS OCCUPATION        184 non-null    object \n",
      " 3   ATTENDANCE                184 non-null    object \n",
      " 4   STUDY HOUR(AFTER SCHOOL)  184 non-null    object \n",
      " 5   8th QUARTERLY             167 non-null    float64\n",
      " 6   8th HALF YEARLY           167 non-null    float64\n",
      " 7   8th ANNUAL                167 non-null    float64\n",
      " 8   9th QUARTERLY             176 non-null    float64\n",
      " 9   9th HALF YEARLY           176 non-null    float64\n",
      " 10  9th ANNUAL                176 non-null    float64\n",
      " 11  10th PUBLIC EXAM          139 non-null    float64\n",
      "dtypes: float64(7), object(5)\n",
      "memory usage: 17.4+ KB\n"
     ]
    }
   ],
   "source": [
    "df.info()"
   ]
  },
  {
   "cell_type": "code",
   "execution_count": 7,
   "metadata": {
    "scrolled": true
   },
   "outputs": [
    {
     "data": {
      "text/plain": [
       "NAME                         0\n",
       "GENDER                       0\n",
       "PARENTS OCCUPATION           0\n",
       "ATTENDANCE                   0\n",
       "STUDY HOUR(AFTER SCHOOL)     0\n",
       "8th QUARTERLY               17\n",
       "8th HALF YEARLY             17\n",
       "8th ANNUAL                  17\n",
       "9th QUARTERLY                8\n",
       "9th HALF YEARLY              8\n",
       "9th ANNUAL                   8\n",
       "10th PUBLIC EXAM            45\n",
       "dtype: int64"
      ]
     },
     "execution_count": 7,
     "metadata": {},
     "output_type": "execute_result"
    }
   ],
   "source": [
    "df.isnull().sum()"
   ]
  },
  {
   "cell_type": "code",
   "execution_count": 8,
   "metadata": {},
   "outputs": [],
   "source": [
    "df['8th QUARTERLY'].fillna(value=df['8th QUARTERLY'].mean(),inplace=True)"
   ]
  },
  {
   "cell_type": "code",
   "execution_count": 9,
   "metadata": {},
   "outputs": [],
   "source": [
    "df['8th HALF YEARLY'].fillna(value=df['8th HALF YEARLY'].mean(),inplace=True)"
   ]
  },
  {
   "cell_type": "code",
   "execution_count": 10,
   "metadata": {},
   "outputs": [],
   "source": [
    "df['8th ANNUAL'].fillna(value=df['8th ANNUAL'].mean(),inplace=True)"
   ]
  },
  {
   "cell_type": "code",
   "execution_count": 11,
   "metadata": {},
   "outputs": [],
   "source": [
    "df['9th QUARTERLY'].fillna(value=df['9th QUARTERLY'].mean(),inplace=True)"
   ]
  },
  {
   "cell_type": "code",
   "execution_count": 12,
   "metadata": {},
   "outputs": [],
   "source": [
    "df['9th HALF YEARLY'].fillna(value=df['9th HALF YEARLY'].mean(),inplace=True)"
   ]
  },
  {
   "cell_type": "code",
   "execution_count": 13,
   "metadata": {},
   "outputs": [],
   "source": [
    "df['9th ANNUAL'].fillna(value=df['9th ANNUAL'].mean(),inplace=True)"
   ]
  },
  {
   "cell_type": "code",
   "execution_count": 14,
   "metadata": {},
   "outputs": [],
   "source": [
    "df['10th PUBLIC EXAM'].fillna(value=df['10th PUBLIC EXAM'].mean(),inplace=True)"
   ]
  },
  {
   "cell_type": "code",
   "execution_count": 15,
   "metadata": {},
   "outputs": [
    {
     "data": {
      "text/plain": [
       "NAME                        0\n",
       "GENDER                      0\n",
       "PARENTS OCCUPATION          0\n",
       "ATTENDANCE                  0\n",
       "STUDY HOUR(AFTER SCHOOL)    0\n",
       "8th QUARTERLY               0\n",
       "8th HALF YEARLY             0\n",
       "8th ANNUAL                  0\n",
       "9th QUARTERLY               0\n",
       "9th HALF YEARLY             0\n",
       "9th ANNUAL                  0\n",
       "10th PUBLIC EXAM            0\n",
       "dtype: int64"
      ]
     },
     "execution_count": 15,
     "metadata": {},
     "output_type": "execute_result"
    }
   ],
   "source": [
    "df.isnull().sum()"
   ]
  },
  {
   "cell_type": "code",
   "execution_count": 16,
   "metadata": {},
   "outputs": [
    {
     "data": {
      "text/html": [
       "<div>\n",
       "<style scoped>\n",
       "    .dataframe tbody tr th:only-of-type {\n",
       "        vertical-align: middle;\n",
       "    }\n",
       "\n",
       "    .dataframe tbody tr th {\n",
       "        vertical-align: top;\n",
       "    }\n",
       "\n",
       "    .dataframe thead th {\n",
       "        text-align: right;\n",
       "    }\n",
       "</style>\n",
       "<table border=\"1\" class=\"dataframe\">\n",
       "  <thead>\n",
       "    <tr style=\"text-align: right;\">\n",
       "      <th></th>\n",
       "      <th>8th QUARTERLY</th>\n",
       "      <th>8th HALF YEARLY</th>\n",
       "      <th>8th ANNUAL</th>\n",
       "      <th>9th QUARTERLY</th>\n",
       "      <th>9th HALF YEARLY</th>\n",
       "      <th>9th ANNUAL</th>\n",
       "      <th>10th PUBLIC EXAM</th>\n",
       "    </tr>\n",
       "  </thead>\n",
       "  <tbody>\n",
       "    <tr>\n",
       "      <th>count</th>\n",
       "      <td>184.000000</td>\n",
       "      <td>184.000000</td>\n",
       "      <td>184.000000</td>\n",
       "      <td>184.000000</td>\n",
       "      <td>184.000000</td>\n",
       "      <td>184.000000</td>\n",
       "      <td>184.000000</td>\n",
       "    </tr>\n",
       "    <tr>\n",
       "      <th>mean</th>\n",
       "      <td>61.706587</td>\n",
       "      <td>59.994012</td>\n",
       "      <td>62.497006</td>\n",
       "      <td>61.431818</td>\n",
       "      <td>57.573864</td>\n",
       "      <td>58.721591</td>\n",
       "      <td>51.194245</td>\n",
       "    </tr>\n",
       "    <tr>\n",
       "      <th>std</th>\n",
       "      <td>13.212972</td>\n",
       "      <td>11.190109</td>\n",
       "      <td>10.901884</td>\n",
       "      <td>12.943167</td>\n",
       "      <td>11.366964</td>\n",
       "      <td>12.026237</td>\n",
       "      <td>13.620893</td>\n",
       "    </tr>\n",
       "    <tr>\n",
       "      <th>min</th>\n",
       "      <td>39.000000</td>\n",
       "      <td>39.000000</td>\n",
       "      <td>39.000000</td>\n",
       "      <td>40.000000</td>\n",
       "      <td>41.000000</td>\n",
       "      <td>41.000000</td>\n",
       "      <td>13.000000</td>\n",
       "    </tr>\n",
       "    <tr>\n",
       "      <th>25%</th>\n",
       "      <td>53.000000</td>\n",
       "      <td>51.000000</td>\n",
       "      <td>53.000000</td>\n",
       "      <td>52.000000</td>\n",
       "      <td>50.000000</td>\n",
       "      <td>49.000000</td>\n",
       "      <td>41.750000</td>\n",
       "    </tr>\n",
       "    <tr>\n",
       "      <th>50%</th>\n",
       "      <td>61.000000</td>\n",
       "      <td>58.000000</td>\n",
       "      <td>62.497006</td>\n",
       "      <td>59.000000</td>\n",
       "      <td>55.000000</td>\n",
       "      <td>55.500000</td>\n",
       "      <td>51.194245</td>\n",
       "    </tr>\n",
       "    <tr>\n",
       "      <th>75%</th>\n",
       "      <td>68.000000</td>\n",
       "      <td>67.250000</td>\n",
       "      <td>68.000000</td>\n",
       "      <td>68.500000</td>\n",
       "      <td>60.250000</td>\n",
       "      <td>66.000000</td>\n",
       "      <td>54.000000</td>\n",
       "    </tr>\n",
       "    <tr>\n",
       "      <th>max</th>\n",
       "      <td>99.000000</td>\n",
       "      <td>93.000000</td>\n",
       "      <td>94.000000</td>\n",
       "      <td>95.000000</td>\n",
       "      <td>94.000000</td>\n",
       "      <td>93.000000</td>\n",
       "      <td>95.000000</td>\n",
       "    </tr>\n",
       "  </tbody>\n",
       "</table>\n",
       "</div>"
      ],
      "text/plain": [
       "       8th QUARTERLY  8th HALF YEARLY  8th ANNUAL  9th QUARTERLY  \\\n",
       "count     184.000000       184.000000  184.000000     184.000000   \n",
       "mean       61.706587        59.994012   62.497006      61.431818   \n",
       "std        13.212972        11.190109   10.901884      12.943167   \n",
       "min        39.000000        39.000000   39.000000      40.000000   \n",
       "25%        53.000000        51.000000   53.000000      52.000000   \n",
       "50%        61.000000        58.000000   62.497006      59.000000   \n",
       "75%        68.000000        67.250000   68.000000      68.500000   \n",
       "max        99.000000        93.000000   94.000000      95.000000   \n",
       "\n",
       "       9th HALF YEARLY  9th ANNUAL  10th PUBLIC EXAM  \n",
       "count       184.000000  184.000000        184.000000  \n",
       "mean         57.573864   58.721591         51.194245  \n",
       "std          11.366964   12.026237         13.620893  \n",
       "min          41.000000   41.000000         13.000000  \n",
       "25%          50.000000   49.000000         41.750000  \n",
       "50%          55.000000   55.500000         51.194245  \n",
       "75%          60.250000   66.000000         54.000000  \n",
       "max          94.000000   93.000000         95.000000  "
      ]
     },
     "execution_count": 16,
     "metadata": {},
     "output_type": "execute_result"
    }
   ],
   "source": [
    "df.describe()"
   ]
  },
  {
   "cell_type": "code",
   "execution_count": 17,
   "metadata": {},
   "outputs": [
    {
     "data": {
      "text/html": [
       "<div>\n",
       "<style scoped>\n",
       "    .dataframe tbody tr th:only-of-type {\n",
       "        vertical-align: middle;\n",
       "    }\n",
       "\n",
       "    .dataframe tbody tr th {\n",
       "        vertical-align: top;\n",
       "    }\n",
       "\n",
       "    .dataframe thead th {\n",
       "        text-align: right;\n",
       "    }\n",
       "</style>\n",
       "<table border=\"1\" class=\"dataframe\">\n",
       "  <thead>\n",
       "    <tr style=\"text-align: right;\">\n",
       "      <th></th>\n",
       "      <th>NAME</th>\n",
       "      <th>GENDER</th>\n",
       "      <th>PARENTS OCCUPATION</th>\n",
       "      <th>ATTENDANCE</th>\n",
       "      <th>STUDY HOUR(AFTER SCHOOL)</th>\n",
       "      <th>8th QUARTERLY</th>\n",
       "      <th>8th HALF YEARLY</th>\n",
       "      <th>8th ANNUAL</th>\n",
       "      <th>9th QUARTERLY</th>\n",
       "      <th>9th HALF YEARLY</th>\n",
       "      <th>9th ANNUAL</th>\n",
       "      <th>10th PUBLIC EXAM</th>\n",
       "    </tr>\n",
       "  </thead>\n",
       "  <tbody>\n",
       "    <tr>\n",
       "      <th>0</th>\n",
       "      <td>ABIN KUMAR G</td>\n",
       "      <td>MALE</td>\n",
       "      <td>Govt</td>\n",
       "      <td>&gt;90</td>\n",
       "      <td>1 to 2</td>\n",
       "      <td>61.0</td>\n",
       "      <td>51.0</td>\n",
       "      <td>53.0</td>\n",
       "      <td>61.431818</td>\n",
       "      <td>57.573864</td>\n",
       "      <td>58.721591</td>\n",
       "      <td>51.194245</td>\n",
       "    </tr>\n",
       "    <tr>\n",
       "      <th>1</th>\n",
       "      <td>AKIL M</td>\n",
       "      <td>MALE</td>\n",
       "      <td>Govt</td>\n",
       "      <td>&gt;90</td>\n",
       "      <td>1 to 2</td>\n",
       "      <td>45.0</td>\n",
       "      <td>47.0</td>\n",
       "      <td>55.0</td>\n",
       "      <td>51.000000</td>\n",
       "      <td>49.000000</td>\n",
       "      <td>48.000000</td>\n",
       "      <td>37.000000</td>\n",
       "    </tr>\n",
       "    <tr>\n",
       "      <th>2</th>\n",
       "      <td>ARUNKUMAR P</td>\n",
       "      <td>MALE</td>\n",
       "      <td>Private</td>\n",
       "      <td>75-90</td>\n",
       "      <td>&gt;2</td>\n",
       "      <td>91.0</td>\n",
       "      <td>74.0</td>\n",
       "      <td>64.0</td>\n",
       "      <td>60.000000</td>\n",
       "      <td>64.000000</td>\n",
       "      <td>54.000000</td>\n",
       "      <td>40.000000</td>\n",
       "    </tr>\n",
       "    <tr>\n",
       "      <th>3</th>\n",
       "      <td>HARISH V</td>\n",
       "      <td>MALE</td>\n",
       "      <td>Govt</td>\n",
       "      <td>&lt;60</td>\n",
       "      <td>&gt;2</td>\n",
       "      <td>44.0</td>\n",
       "      <td>48.0</td>\n",
       "      <td>51.0</td>\n",
       "      <td>47.000000</td>\n",
       "      <td>57.000000</td>\n",
       "      <td>48.000000</td>\n",
       "      <td>37.000000</td>\n",
       "    </tr>\n",
       "    <tr>\n",
       "      <th>4</th>\n",
       "      <td>JAYABALAN S</td>\n",
       "      <td>MALE</td>\n",
       "      <td>Govt</td>\n",
       "      <td>75-90</td>\n",
       "      <td>&gt;2</td>\n",
       "      <td>40.0</td>\n",
       "      <td>51.0</td>\n",
       "      <td>52.0</td>\n",
       "      <td>40.000000</td>\n",
       "      <td>41.000000</td>\n",
       "      <td>41.000000</td>\n",
       "      <td>35.000000</td>\n",
       "    </tr>\n",
       "  </tbody>\n",
       "</table>\n",
       "</div>"
      ],
      "text/plain": [
       "           NAME GENDER PARENTS OCCUPATION ATTENDANCE STUDY HOUR(AFTER SCHOOL)  \\\n",
       "0  ABIN KUMAR G   MALE               Govt        >90                   1 to 2   \n",
       "1        AKIL M   MALE               Govt        >90                   1 to 2   \n",
       "2   ARUNKUMAR P   MALE            Private      75-90                       >2   \n",
       "3      HARISH V   MALE               Govt        <60                       >2   \n",
       "4   JAYABALAN S   MALE               Govt      75-90                       >2   \n",
       "\n",
       "   8th QUARTERLY  8th HALF YEARLY  8th ANNUAL  9th QUARTERLY  9th HALF YEARLY  \\\n",
       "0           61.0             51.0        53.0      61.431818        57.573864   \n",
       "1           45.0             47.0        55.0      51.000000        49.000000   \n",
       "2           91.0             74.0        64.0      60.000000        64.000000   \n",
       "3           44.0             48.0        51.0      47.000000        57.000000   \n",
       "4           40.0             51.0        52.0      40.000000        41.000000   \n",
       "\n",
       "   9th ANNUAL  10th PUBLIC EXAM  \n",
       "0   58.721591         51.194245  \n",
       "1   48.000000         37.000000  \n",
       "2   54.000000         40.000000  \n",
       "3   48.000000         37.000000  \n",
       "4   41.000000         35.000000  "
      ]
     },
     "execution_count": 17,
     "metadata": {},
     "output_type": "execute_result"
    }
   ],
   "source": [
    "df.head(5)"
   ]
  },
  {
   "cell_type": "code",
   "execution_count": 18,
   "metadata": {},
   "outputs": [],
   "source": [
    "from sklearn.preprocessing import LabelEncoder"
   ]
  },
  {
   "cell_type": "code",
   "execution_count": 19,
   "metadata": {},
   "outputs": [],
   "source": [
    "labelencoder = LabelEncoder()"
   ]
  },
  {
   "cell_type": "code",
   "execution_count": 20,
   "metadata": {},
   "outputs": [],
   "source": [
    "df[\"PARENTS OCCUPATION_ENCODED\"]=labelencoder.fit_transform(df[\"PARENTS OCCUPATION\"])"
   ]
  },
  {
   "cell_type": "code",
   "execution_count": 21,
   "metadata": {},
   "outputs": [],
   "source": [
    "df[\"ATTENDANCE_ENCODED\"]=labelencoder.fit_transform(df[\"ATTENDANCE\"])"
   ]
  },
  {
   "cell_type": "code",
   "execution_count": 22,
   "metadata": {},
   "outputs": [],
   "source": [
    "df[\"STUDY HOUR(AFTER SCHOOL)_ENCODED\"]=labelencoder.fit_transform(df[\"STUDY HOUR(AFTER SCHOOL)\"])"
   ]
  },
  {
   "cell_type": "code",
   "execution_count": 23,
   "metadata": {},
   "outputs": [],
   "source": [
    "df[\"GENDER_ENCODED\"]=labelencoder.fit_transform(df[\"GENDER\"])"
   ]
  },
  {
   "cell_type": "code",
   "execution_count": 24,
   "metadata": {},
   "outputs": [
    {
     "name": "stdout",
     "output_type": "stream",
     "text": [
      "             NAME  GENDER PARENTS OCCUPATION ATTENDANCE  \\\n",
      "0    ABIN KUMAR G    MALE               Govt        >90   \n",
      "1          AKIL M    MALE               Govt        >90   \n",
      "2     ARUNKUMAR P    MALE            Private      75-90   \n",
      "3        HARISH V    MALE               Govt        <60   \n",
      "4     JAYABALAN S    MALE               Govt      75-90   \n",
      "..            ...     ...                ...        ...   \n",
      "179   SOWMIYA S.M  FEMALE            Private        <60   \n",
      "180   SUGHASINI S  FEMALE            Private      75-90   \n",
      "181     SWARNA T   FEMALE        Daily Wages        >90   \n",
      "182   THENMOZHI R  FEMALE               Govt      60-75   \n",
      "183      YALINI G  FEMALE        Daily Wages        <60   \n",
      "\n",
      "    STUDY HOUR(AFTER SCHOOL)  8th QUARTERLY  8th HALF YEARLY  8th ANNUAL  \\\n",
      "0                     1 to 2           61.0             51.0        53.0   \n",
      "1                     1 to 2           45.0             47.0        55.0   \n",
      "2                         >2           91.0             74.0        64.0   \n",
      "3                         >2           44.0             48.0        51.0   \n",
      "4                         >2           40.0             51.0        52.0   \n",
      "..                       ...            ...              ...         ...   \n",
      "179                       >2           65.0             74.0        74.0   \n",
      "180                       <1           68.0             57.0        66.0   \n",
      "181                       >2           65.0             52.0        71.0   \n",
      "182                       >2           57.0             50.0        65.0   \n",
      "183                       >2           63.0             56.0        57.0   \n",
      "\n",
      "     9th QUARTERLY  9th HALF YEARLY  9th ANNUAL  10th PUBLIC EXAM  \\\n",
      "0        61.431818        57.573864   58.721591         51.194245   \n",
      "1        51.000000        49.000000   48.000000         37.000000   \n",
      "2        60.000000        64.000000   54.000000         40.000000   \n",
      "3        47.000000        57.000000   48.000000         37.000000   \n",
      "4        40.000000        41.000000   41.000000         35.000000   \n",
      "..             ...              ...         ...               ...   \n",
      "179      68.000000        52.000000   56.000000         56.000000   \n",
      "180      62.000000        48.000000   46.000000         51.194245   \n",
      "181      49.000000        53.000000   49.000000         39.000000   \n",
      "182      51.000000        53.000000   48.000000         39.000000   \n",
      "183      48.000000        45.000000   49.000000         36.000000   \n",
      "\n",
      "     PARENTS OCCUPATION_ENCODED  ATTENDANCE_ENCODED  \\\n",
      "0                             1                   0   \n",
      "1                             1                   0   \n",
      "2                             2                   2   \n",
      "3                             1                   3   \n",
      "4                             1                   2   \n",
      "..                          ...                 ...   \n",
      "179                           2                   3   \n",
      "180                           2                   2   \n",
      "181                           0                   0   \n",
      "182                           1                   1   \n",
      "183                           0                   3   \n",
      "\n",
      "     STUDY HOUR(AFTER SCHOOL)_ENCODED  GENDER_ENCODED 10th PUBLIC EXAM_ENCODED  \n",
      "0                                   0               1                        1  \n",
      "1                                   0               1                        0  \n",
      "2                                   2               1                        0  \n",
      "3                                   2               1                        0  \n",
      "4                                   2               1                        0  \n",
      "..                                ...             ...                      ...  \n",
      "179                                 2               0                        1  \n",
      "180                                 1               0                        1  \n",
      "181                                 2               0                        0  \n",
      "182                                 2               0                        0  \n",
      "183                                 2               0                        0  \n",
      "\n",
      "[184 rows x 17 columns]\n"
     ]
    }
   ],
   "source": [
    "bins= [0,45,60,75,100]\n",
    "labels=[0,1,2,3]\n",
    "df['10th PUBLIC EXAM_ENCODED'] = pd.cut(df['10th PUBLIC EXAM'], bins=bins, labels=labels, include_lowest=True)\n",
    "print (df)"
   ]
  },
  {
   "cell_type": "code",
   "execution_count": 25,
   "metadata": {},
   "outputs": [
    {
     "data": {
      "text/html": [
       "<div>\n",
       "<style scoped>\n",
       "    .dataframe tbody tr th:only-of-type {\n",
       "        vertical-align: middle;\n",
       "    }\n",
       "\n",
       "    .dataframe tbody tr th {\n",
       "        vertical-align: top;\n",
       "    }\n",
       "\n",
       "    .dataframe thead th {\n",
       "        text-align: right;\n",
       "    }\n",
       "</style>\n",
       "<table border=\"1\" class=\"dataframe\">\n",
       "  <thead>\n",
       "    <tr style=\"text-align: right;\">\n",
       "      <th></th>\n",
       "      <th>NAME</th>\n",
       "      <th>GENDER</th>\n",
       "      <th>PARENTS OCCUPATION</th>\n",
       "      <th>ATTENDANCE</th>\n",
       "      <th>STUDY HOUR(AFTER SCHOOL)</th>\n",
       "      <th>8th QUARTERLY</th>\n",
       "      <th>8th HALF YEARLY</th>\n",
       "      <th>8th ANNUAL</th>\n",
       "      <th>9th QUARTERLY</th>\n",
       "      <th>9th HALF YEARLY</th>\n",
       "      <th>9th ANNUAL</th>\n",
       "      <th>10th PUBLIC EXAM</th>\n",
       "      <th>PARENTS OCCUPATION_ENCODED</th>\n",
       "      <th>ATTENDANCE_ENCODED</th>\n",
       "      <th>STUDY HOUR(AFTER SCHOOL)_ENCODED</th>\n",
       "      <th>GENDER_ENCODED</th>\n",
       "      <th>10th PUBLIC EXAM_ENCODED</th>\n",
       "    </tr>\n",
       "  </thead>\n",
       "  <tbody>\n",
       "    <tr>\n",
       "      <th>0</th>\n",
       "      <td>ABIN KUMAR G</td>\n",
       "      <td>MALE</td>\n",
       "      <td>Govt</td>\n",
       "      <td>&gt;90</td>\n",
       "      <td>1 to 2</td>\n",
       "      <td>61.0</td>\n",
       "      <td>51.0</td>\n",
       "      <td>53.0</td>\n",
       "      <td>61.431818</td>\n",
       "      <td>57.573864</td>\n",
       "      <td>58.721591</td>\n",
       "      <td>51.194245</td>\n",
       "      <td>1</td>\n",
       "      <td>0</td>\n",
       "      <td>0</td>\n",
       "      <td>1</td>\n",
       "      <td>1</td>\n",
       "    </tr>\n",
       "    <tr>\n",
       "      <th>1</th>\n",
       "      <td>AKIL M</td>\n",
       "      <td>MALE</td>\n",
       "      <td>Govt</td>\n",
       "      <td>&gt;90</td>\n",
       "      <td>1 to 2</td>\n",
       "      <td>45.0</td>\n",
       "      <td>47.0</td>\n",
       "      <td>55.0</td>\n",
       "      <td>51.000000</td>\n",
       "      <td>49.000000</td>\n",
       "      <td>48.000000</td>\n",
       "      <td>37.000000</td>\n",
       "      <td>1</td>\n",
       "      <td>0</td>\n",
       "      <td>0</td>\n",
       "      <td>1</td>\n",
       "      <td>0</td>\n",
       "    </tr>\n",
       "    <tr>\n",
       "      <th>2</th>\n",
       "      <td>ARUNKUMAR P</td>\n",
       "      <td>MALE</td>\n",
       "      <td>Private</td>\n",
       "      <td>75-90</td>\n",
       "      <td>&gt;2</td>\n",
       "      <td>91.0</td>\n",
       "      <td>74.0</td>\n",
       "      <td>64.0</td>\n",
       "      <td>60.000000</td>\n",
       "      <td>64.000000</td>\n",
       "      <td>54.000000</td>\n",
       "      <td>40.000000</td>\n",
       "      <td>2</td>\n",
       "      <td>2</td>\n",
       "      <td>2</td>\n",
       "      <td>1</td>\n",
       "      <td>0</td>\n",
       "    </tr>\n",
       "    <tr>\n",
       "      <th>3</th>\n",
       "      <td>HARISH V</td>\n",
       "      <td>MALE</td>\n",
       "      <td>Govt</td>\n",
       "      <td>&lt;60</td>\n",
       "      <td>&gt;2</td>\n",
       "      <td>44.0</td>\n",
       "      <td>48.0</td>\n",
       "      <td>51.0</td>\n",
       "      <td>47.000000</td>\n",
       "      <td>57.000000</td>\n",
       "      <td>48.000000</td>\n",
       "      <td>37.000000</td>\n",
       "      <td>1</td>\n",
       "      <td>3</td>\n",
       "      <td>2</td>\n",
       "      <td>1</td>\n",
       "      <td>0</td>\n",
       "    </tr>\n",
       "    <tr>\n",
       "      <th>4</th>\n",
       "      <td>JAYABALAN S</td>\n",
       "      <td>MALE</td>\n",
       "      <td>Govt</td>\n",
       "      <td>75-90</td>\n",
       "      <td>&gt;2</td>\n",
       "      <td>40.0</td>\n",
       "      <td>51.0</td>\n",
       "      <td>52.0</td>\n",
       "      <td>40.000000</td>\n",
       "      <td>41.000000</td>\n",
       "      <td>41.000000</td>\n",
       "      <td>35.000000</td>\n",
       "      <td>1</td>\n",
       "      <td>2</td>\n",
       "      <td>2</td>\n",
       "      <td>1</td>\n",
       "      <td>0</td>\n",
       "    </tr>\n",
       "  </tbody>\n",
       "</table>\n",
       "</div>"
      ],
      "text/plain": [
       "           NAME GENDER PARENTS OCCUPATION ATTENDANCE STUDY HOUR(AFTER SCHOOL)  \\\n",
       "0  ABIN KUMAR G   MALE               Govt        >90                   1 to 2   \n",
       "1        AKIL M   MALE               Govt        >90                   1 to 2   \n",
       "2   ARUNKUMAR P   MALE            Private      75-90                       >2   \n",
       "3      HARISH V   MALE               Govt        <60                       >2   \n",
       "4   JAYABALAN S   MALE               Govt      75-90                       >2   \n",
       "\n",
       "   8th QUARTERLY  8th HALF YEARLY  8th ANNUAL  9th QUARTERLY  9th HALF YEARLY  \\\n",
       "0           61.0             51.0        53.0      61.431818        57.573864   \n",
       "1           45.0             47.0        55.0      51.000000        49.000000   \n",
       "2           91.0             74.0        64.0      60.000000        64.000000   \n",
       "3           44.0             48.0        51.0      47.000000        57.000000   \n",
       "4           40.0             51.0        52.0      40.000000        41.000000   \n",
       "\n",
       "   9th ANNUAL  10th PUBLIC EXAM  PARENTS OCCUPATION_ENCODED  \\\n",
       "0   58.721591         51.194245                           1   \n",
       "1   48.000000         37.000000                           1   \n",
       "2   54.000000         40.000000                           2   \n",
       "3   48.000000         37.000000                           1   \n",
       "4   41.000000         35.000000                           1   \n",
       "\n",
       "   ATTENDANCE_ENCODED  STUDY HOUR(AFTER SCHOOL)_ENCODED  GENDER_ENCODED  \\\n",
       "0                   0                                 0               1   \n",
       "1                   0                                 0               1   \n",
       "2                   2                                 2               1   \n",
       "3                   3                                 2               1   \n",
       "4                   2                                 2               1   \n",
       "\n",
       "  10th PUBLIC EXAM_ENCODED  \n",
       "0                        1  \n",
       "1                        0  \n",
       "2                        0  \n",
       "3                        0  \n",
       "4                        0  "
      ]
     },
     "execution_count": 25,
     "metadata": {},
     "output_type": "execute_result"
    }
   ],
   "source": [
    "df.head()"
   ]
  },
  {
   "cell_type": "code",
   "execution_count": 26,
   "metadata": {},
   "outputs": [
    {
     "data": {
      "text/plain": [
       "<matplotlib.axes._subplots.AxesSubplot at 0x1c5e7b46d60>"
      ]
     },
     "execution_count": 26,
     "metadata": {},
     "output_type": "execute_result"
    },
    {
     "data": {
      "image/png": "[encoded data removed]",
      "text/plain": [
       "<Figure size 1440x720 with 2 Axes>"
      ]
     },
     "metadata": {
      "needs_background": "light"
     },
     "output_type": "display_data"
    }
   ],
   "source": [
    "import numpy as np\n",
    "import seaborn as sns\n",
    "import matplotlib.pyplot as plt\n",
    "%matplotlib inline\n",
    "corr = df.corr()\n",
    "mask = np.array(corr)\n",
    "mask[np.tril_indices_from(mask)] = False\n",
    "fig,ax= plt.subplots()\n",
    "fig.set_size_inches(20,10)\n",
    "sns.heatmap(corr, mask=mask,vmax=.9, square=True,annot=True, cmap=\"YlGnBu\")"
   ]
  },
  {
   "cell_type": "code",
   "execution_count": 27,
   "metadata": {},
   "outputs": [],
   "source": [
    "from sklearn import datasets\n"
   ]
  },
  {
   "cell_type": "code",
   "execution_count": 28,
   "metadata": {},
   "outputs": [
    {
     "name": "stdout",
     "output_type": "stream",
     "text": [
      "             NAME  GENDER PARENTS OCCUPATION ATTENDANCE  \\\n",
      "0    ABIN KUMAR G    MALE               Govt        >90   \n",
      "1          AKIL M    MALE               Govt        >90   \n",
      "2     ARUNKUMAR P    MALE            Private      75-90   \n",
      "3        HARISH V    MALE               Govt        <60   \n",
      "4     JAYABALAN S    MALE               Govt      75-90   \n",
      "..            ...     ...                ...        ...   \n",
      "179   SOWMIYA S.M  FEMALE            Private        <60   \n",
      "180   SUGHASINI S  FEMALE            Private      75-90   \n",
      "181     SWARNA T   FEMALE        Daily Wages        >90   \n",
      "182   THENMOZHI R  FEMALE               Govt      60-75   \n",
      "183      YALINI G  FEMALE        Daily Wages        <60   \n",
      "\n",
      "    STUDY HOUR(AFTER SCHOOL)  8th QUARTERLY  8th HALF YEARLY  8th ANNUAL  \\\n",
      "0                     1 to 2       0.366667         0.222222    0.254545   \n",
      "1                     1 to 2       0.100000         0.148148    0.290909   \n",
      "2                         >2       0.866667         0.648148    0.454545   \n",
      "3                         >2       0.083333         0.166667    0.218182   \n",
      "4                         >2       0.016667         0.222222    0.236364   \n",
      "..                       ...            ...              ...         ...   \n",
      "179                       >2       0.433333         0.648148    0.636364   \n",
      "180                       <1       0.483333         0.333333    0.490909   \n",
      "181                       >2       0.433333         0.240741    0.581818   \n",
      "182                       >2       0.300000         0.203704    0.472727   \n",
      "183                       >2       0.400000         0.314815    0.327273   \n",
      "\n",
      "     9th QUARTERLY  9th HALF YEARLY  9th ANNUAL  10th PUBLIC EXAM  \\\n",
      "0         0.389669         0.312714    0.340800          0.465783   \n",
      "1         0.200000         0.150943    0.134615          0.292683   \n",
      "2         0.363636         0.433962    0.250000          0.329268   \n",
      "3         0.127273         0.301887    0.134615          0.292683   \n",
      "4         0.000000         0.000000    0.000000          0.268293   \n",
      "..             ...              ...         ...               ...   \n",
      "179       0.509091         0.207547    0.288462          0.524390   \n",
      "180       0.400000         0.132075    0.096154          0.465783   \n",
      "181       0.163636         0.226415    0.153846          0.317073   \n",
      "182       0.200000         0.226415    0.134615          0.317073   \n",
      "183       0.145455         0.075472    0.153846          0.280488   \n",
      "\n",
      "     PARENTS OCCUPATION_ENCODED  ATTENDANCE_ENCODED  \\\n",
      "0                             1                   0   \n",
      "1                             1                   0   \n",
      "2                             2                   2   \n",
      "3                             1                   3   \n",
      "4                             1                   2   \n",
      "..                          ...                 ...   \n",
      "179                           2                   3   \n",
      "180                           2                   2   \n",
      "181                           0                   0   \n",
      "182                           1                   1   \n",
      "183                           0                   3   \n",
      "\n",
      "     STUDY HOUR(AFTER SCHOOL)_ENCODED  GENDER_ENCODED 10th PUBLIC EXAM_ENCODED  \n",
      "0                                   0               1                        1  \n",
      "1                                   0               1                        0  \n",
      "2                                   2               1                        0  \n",
      "3                                   2               1                        0  \n",
      "4                                   2               1                        0  \n",
      "..                                ...             ...                      ...  \n",
      "179                                 2               0                        1  \n",
      "180                                 1               0                        1  \n",
      "181                                 2               0                        0  \n",
      "182                                 2               0                        0  \n",
      "183                                 2               0                        0  \n",
      "\n",
      "[184 rows x 17 columns]\n"
     ]
    }
   ],
   "source": [
    "# data normalization with sklearn\n",
    "from sklearn.preprocessing import MinMaxScaler\n",
    "# define min max scaler\n",
    "scaler = MinMaxScaler()\n",
    "# transform data\n",
    "df[['8th QUARTERLY', '8th HALF YEARLY','8th ANNUAL', \n",
    "    '9th QUARTERLY', '9th HALF YEARLY', '9th ANNUAL',\n",
    "    '10th PUBLIC EXAM']] = scaler.fit_transform(df[['8th QUARTERLY', '8th HALF YEARLY','8th ANNUAL', \n",
    "    '9th QUARTERLY', '9th HALF YEARLY', '9th ANNUAL',\n",
    "    '10th PUBLIC EXAM']])\n",
    "print(df)"
   ]
  },
  {
   "cell_type": "code",
   "execution_count": 29,
   "metadata": {},
   "outputs": [
    {
     "data": {
      "text/plain": [
       "Index(['NAME', 'GENDER', 'PARENTS OCCUPATION', 'ATTENDANCE',\n",
       "       'STUDY HOUR(AFTER SCHOOL)', '8th QUARTERLY', '8th HALF YEARLY',\n",
       "       '8th ANNUAL', '9th QUARTERLY', '9th HALF YEARLY', '9th ANNUAL',\n",
       "       '10th PUBLIC EXAM', 'PARENTS OCCUPATION_ENCODED', 'ATTENDANCE_ENCODED',\n",
       "       'STUDY HOUR(AFTER SCHOOL)_ENCODED', 'GENDER_ENCODED',\n",
       "       '10th PUBLIC EXAM_ENCODED'],\n",
       "      dtype='object')"
      ]
     },
     "execution_count": 29,
     "metadata": {},
     "output_type": "execute_result"
    }
   ],
   "source": [
    "df.columns"
   ]
  },
  {
   "cell_type": "code",
   "execution_count": 30,
   "metadata": {},
   "outputs": [],
   "source": [
    "X = df.drop(['10th PUBLIC EXAM_ENCODED','10th PUBLIC EXAM','NAME','GENDER', 'PARENTS OCCUPATION', 'ATTENDANCE',\n",
    "       'STUDY HOUR(AFTER SCHOOL)'],axis=1).values\n",
    "y = df.iloc[:,-1]"
   ]
  },
  {
   "cell_type": "code",
   "execution_count": 31,
   "metadata": {},
   "outputs": [],
   "source": [
    "from sklearn.model_selection import train_test_split"
   ]
  },
  {
   "cell_type": "code",
   "execution_count": 46,
   "metadata": {},
   "outputs": [],
   "source": [
    "x_train,x_test,y_train,y_test=train_test_split(X,y,test_size=0.2,random_state=12)"
   ]
  },
  {
   "cell_type": "code",
   "execution_count": 47,
   "metadata": {},
   "outputs": [],
   "source": [
    "from sklearn.naive_bayes import GaussianNB\n",
    "Model= GaussianNB()"
   ]
  },
  {
   "cell_type": "code",
   "execution_count": 48,
   "metadata": {},
   "outputs": [],
   "source": [
    "Model.fit(x_train,y_train)\n",
    "y_predict=Model.predict(x_test)"
   ]
  },
  {
   "cell_type": "code",
   "execution_count": 49,
   "metadata": {},
   "outputs": [],
   "source": [
    "from sklearn import metrics"
   ]
  },
  {
   "cell_type": "code",
   "execution_count": 50,
   "metadata": {},
   "outputs": [
    {
     "name": "stdout",
     "output_type": "stream",
     "text": [
      "Accuracy: 0.6486486486486487\n"
     ]
    }
   ],
   "source": [
    "print(\"Accuracy:\",metrics.accuracy_score(y_test,y_predict))"
   ]
  },
  {
   "cell_type": "code",
   "execution_count": 37,
   "metadata": {},
   "outputs": [
    {
     "data": {
      "text/plain": [
       "array([1, 1, 0, 2, 2, 1, 3, 1, 1, 0, 1, 3, 0, 3, 3, 0, 1, 0, 1, 0, 0, 2,\n",
       "       0, 1, 2, 1, 0, 0, 0, 0, 2, 2, 0, 1, 1, 0, 3], dtype=int64)"
      ]
     },
     "execution_count": 37,
     "metadata": {},
     "output_type": "execute_result"
    }
   ],
   "source": [
    "y_predict"
   ]
  },
  {
   "cell_type": "code",
   "execution_count": 53,
   "metadata": {},
   "outputs": [
    {
     "name": "stdout",
     "output_type": "stream",
     "text": [
      "[[10  3  0  0]\n",
      " [ 4  9  4  1]\n",
      " [ 0  0  2  1]\n",
      " [ 0  0  0  3]]\n"
     ]
    }
   ],
   "source": [
    "from sklearn.metrics import confusion_matrix\n",
    "cm = confusion_matrix(y_test, y_predict)\n",
    "print(cm)"
   ]
  },
  {
   "cell_type": "code",
   "execution_count": null,
   "metadata": {},
   "outputs": [],
   "source": []
  }
 ],
 "metadata": {
  "kernelspec": {
   "display_name": "Python 3",
   "language": "python",
   "name": "python3"
  },
  "language_info": {
   "codemirror_mode": {
    "name": "ipython",
    "version": 3
   },
   "file_extension": ".py",
   "mimetype": "text/x-python",
   "name": "python",
   "nbconvert_exporter": "python",
   "pygments_lexer": "ipython3",
   "version": "3.8.3"
  }
 },
 "nbformat": 4,
 "nbformat_minor": 4
}
